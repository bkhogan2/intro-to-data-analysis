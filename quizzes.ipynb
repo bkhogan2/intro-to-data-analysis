{
 "cells": [
  {
   "cell_type": "code",
   "execution_count": 13,
   "metadata": {},
   "outputs": [],
   "source": [
    "import unicodecsv\n",
    "\n",
    "def read_csv(filename):\n",
    "    with open(filename, 'rb') as f:\n",
    "        reader = unicodecsv.DictReader(f)\n",
    "        return list(reader)\n",
    "    \n",
    "def account_keys(unicodecsv_list):\n",
    "    keys = set()\n",
    "    for ordered_dict in unicodecsv_list:\n",
    "        keys.add(ordered_dict['account_key'])\n",
    "    return keys\n",
    "\n",
    "# Code to replace the daily engagement 'acct' key to 'account_key'\n",
    "def change_account_key(engagement_table, new_key, old_key):\n",
    "    for student_daily_engagement in engagement_table:\n",
    "        student_daily_engagement[new_key] = student_daily_engagement.pop(old_key)"
   ]
  },
  {
   "cell_type": "code",
   "execution_count": 15,
   "metadata": {},
   "outputs": [
    {
     "data": {
      "text/plain": [
       "'0'"
      ]
     },
     "execution_count": 15,
     "metadata": {},
     "output_type": "execute_result"
    }
   ],
   "source": [
    "engagement_table = read_csv('daily_engagement.csv')\n",
    "\n",
    "change_account_key(engagement_table, 'account_key','acct')\n",
    "\n",
    "engagement_table[0]['account_key']"
   ]
  },
  {
   "cell_type": "code",
   "execution_count": null,
   "metadata": {},
   "outputs": [],
   "source": [
    "\n"
   ]
  }
 ],
 "metadata": {
  "kernelspec": {
   "display_name": "Python 3",
   "language": "python",
   "name": "python3"
  },
  "language_info": {
   "codemirror_mode": {
    "name": "ipython",
    "version": 3
   },
   "file_extension": ".py",
   "mimetype": "text/x-python",
   "name": "python",
   "nbconvert_exporter": "python",
   "pygments_lexer": "ipython3",
   "version": "3.7.3"
  }
 },
 "nbformat": 4,
 "nbformat_minor": 2
}
