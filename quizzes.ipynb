{
 "cells": [
  {
   "cell_type": "code",
   "execution_count": 1,
   "metadata": {},
   "outputs": [],
   "source": [
    "import unicodecsv\n",
    "\n",
    "def read_csv(filename):\n",
    "    with open(filename, 'rb') as f:\n",
    "        reader = unicodecsv.DictReader(f)\n",
    "        return list(reader)\n",
    "    \n",
    "def account_keys(unicodecsv_list):\n",
    "    keys = set()\n",
    "    for ordered_dict in unicodecsv_list:\n",
    "        keys.add(ordered_dict['account_key'])\n",
    "    return keys\n",
    "\n",
    "# replace the daily engagement 'acct' key to 'account_key'\n",
    "def change_account_key(engagement_table, new_key, old_key):\n",
    "    for student_daily_engagement in engagement_table:\n",
    "        student_daily_engagement[new_key] = student_daily_engagement.pop(old_key)\n",
    "        \n",
    "# investigate why there are fewer records in the engagement table\n",
    "\n",
    "daily_engagement = read_csv('daily_engagement.csv')\n",
    "enrollments = read_csv('enrollments.csv')\n",
    "project_submissions = read_csv('project_submissions.csv')"
   ]
  },
  {
   "cell_type": "code",
   "execution_count": 2,
   "metadata": {},
   "outputs": [],
   "source": [
    "change_account_key(daily_engagement, 'account_key','acct')"
   ]
  },
  {
   "cell_type": "code",
   "execution_count": 3,
   "metadata": {
    "scrolled": true
   },
   "outputs": [
    {
     "name": "stdout",
     "output_type": "stream",
     "text": [
      "1302\n",
      "1237\n",
      "743\n"
     ]
    }
   ],
   "source": [
    "enrollment_num_rows = len(enrollments)             # Replace this with your code\n",
    "enrollment_num_unique_students = len(account_keys(enrollments))  # Replace this with your code\n",
    "\n",
    "engagement_num_rows = len(daily_engagement)             # Replace this with your code\n",
    "engagement_num_unique_students = len(account_keys(daily_engagement))  # Replace this with your code\n",
    "\n",
    "submission_num_rows = len(project_submissions)             # Replace this with your code\n",
    "submission_num_unique_students = len(account_keys(project_submissions))  # Replace this with your code\n",
    "\n",
    "print(enrollment_num_unique_students)\n",
    "print(engagement_num_unique_students)\n",
    "print(submission_num_unique_students)"
   ]
  },
  {
   "cell_type": "code",
   "execution_count": 4,
   "metadata": {},
   "outputs": [
    {
     "name": "stdout",
     "output_type": "stream",
     "text": [
      "OrderedDict([('account_key', '1304'), ('status', 'canceled'), ('join_date', '2015-01-10'), ('cancel_date', '2015-03-10'), ('days_to_cancel', '59'), ('is_udacity', 'True'), ('is_canceled', 'True')])\n",
      "OrderedDict([('account_key', '1304'), ('status', 'canceled'), ('join_date', '2015-03-10'), ('cancel_date', '2015-06-17'), ('days_to_cancel', '99'), ('is_udacity', 'True'), ('is_canceled', 'True')])\n",
      "OrderedDict([('account_key', '1101'), ('status', 'current'), ('join_date', '2015-02-25'), ('cancel_date', ''), ('days_to_cancel', ''), ('is_udacity', 'True'), ('is_canceled', 'False')])\n"
     ]
    }
   ],
   "source": [
    "for enrollment in enrollments:\n",
    "    student = enrollment['account_key']\n",
    "    if student not in account_keys(daily_engagement) and enrollment['join_date'] != enrollment['cancel_date']:\n",
    "        print (enrollment)"
   ]
  },
  {
   "cell_type": "code",
   "execution_count": 5,
   "metadata": {},
   "outputs": [],
   "source": [
    "udacity_test_accounts = set()\n",
    "\n",
    "for enrollment in enrollments:\n",
    "    if enrollment['is_udacity'] == 'True':\n",
    "        udacity_test_accounts.add(enrollment['account_key'])"
   ]
  },
  {
   "cell_type": "code",
   "execution_count": 6,
   "metadata": {},
   "outputs": [],
   "source": [
    "def remove_test_accounts(data):\n",
    "    for data_point in data:\n",
    "        if data_point['account_key'] in udacity_test_accounts:\n",
    "            data.remove(data_point)\n",
    "    return data"
   ]
  },
  {
   "cell_type": "code",
   "execution_count": 7,
   "metadata": {},
   "outputs": [],
   "source": [
    "def remove_duplicates(_dict):\n",
    "    new_dict = {}\n",
    "    for key,value in _dict.items():\n",
    "        if key not in new_dict.keys():\n",
    "            new_dict[key] = value\n",
    "    return new_dict"
   ]
  },
  {
   "cell_type": "code",
   "execution_count": 8,
   "metadata": {},
   "outputs": [
    {
     "data": {
      "text/plain": [
       "998"
      ]
     },
     "execution_count": 8,
     "metadata": {},
     "output_type": "execute_result"
    }
   ],
   "source": [
    "enrollments = remove_test_accounts(enrollments)\n",
    "\n",
    "paid_students = {}\n",
    "\n",
    "for student in enrollments:\n",
    "    if student['days_to_cancel'] == '' or int(student['days_to_cancel']) > 7:\n",
    "        paid_students.update({student['account_key']:student['join_date']})\n",
    "        \n",
    "paid_students = remove_duplicates(paid_students)\n",
    "\n",
    "len(paid_students)"
   ]
  },
  {
   "cell_type": "code",
   "execution_count": null,
   "metadata": {},
   "outputs": [],
   "source": []
  }
 ],
 "metadata": {
  "kernelspec": {
   "display_name": "Python 3",
   "language": "python",
   "name": "python3"
  },
  "language_info": {
   "codemirror_mode": {
    "name": "ipython",
    "version": 3
   },
   "file_extension": ".py",
   "mimetype": "text/x-python",
   "name": "python",
   "nbconvert_exporter": "python",
   "pygments_lexer": "ipython3",
   "version": "3.7.3"
  }
 },
 "nbformat": 4,
 "nbformat_minor": 2
}
