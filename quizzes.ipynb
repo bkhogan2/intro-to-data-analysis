{
 "cells": [
  {
   "cell_type": "code",
   "execution_count": 27,
   "metadata": {},
   "outputs": [],
   "source": [
    "import unicodecsv\n",
    "\n",
    "def read_csv(filename):\n",
    "    with open(filename, 'rb') as f:\n",
    "        reader = unicodecsv.DictReader(f)\n",
    "        return list(reader)\n",
    "    \n",
    "def account_keys(unicodecsv_list):\n",
    "    keys = set()\n",
    "    for ordered_dict in unicodecsv_list:\n",
    "        keys.add(ordered_dict['account_key'])\n",
    "    return keys\n",
    "\n",
    "# replace the daily engagement 'acct' key to 'account_key'\n",
    "def change_account_key(engagement_table, new_key, old_key):\n",
    "    for student_daily_engagement in engagement_table:\n",
    "        student_daily_engagement[new_key] = student_daily_engagement.pop(old_key)\n",
    "        \n",
    "# investigate why there are fewer records in the engagement table\n",
    "\n",
    "daily_engagement = read_csv('daily_engagement.csv')\n",
    "enrollments = read_csv('enrollments.csv')\n",
    "project_submissions = read_csv('project_submissions.csv')"
   ]
  },
  {
   "cell_type": "code",
   "execution_count": 28,
   "metadata": {},
   "outputs": [],
   "source": [
    "change_account_key(daily_engagement, 'account_key','acct')"
   ]
  },
  {
   "cell_type": "code",
   "execution_count": 29,
   "metadata": {
    "scrolled": true
   },
   "outputs": [
    {
     "name": "stdout",
     "output_type": "stream",
     "text": [
      "1302\n",
      "1237\n",
      "743\n"
     ]
    }
   ],
   "source": [
    "enrollment_num_rows = len(enrollments)             # Replace this with your code\n",
    "enrollment_num_unique_students = len(account_keys(enrollments))  # Replace this with your code\n",
    "\n",
    "engagement_num_rows = len(daily_engagement)             # Replace this with your code\n",
    "engagement_num_unique_students = len(account_keys(daily_engagement))  # Replace this with your code\n",
    "\n",
    "\n",
    "submission_num_rows = len(project_submissions)             # Replace this with your code\n",
    "submission_num_unique_students = len(account_keys(project_submissions))  # Replace this with your code\n",
    "\n",
    "print(enrollment_num_unique_students)\n",
    "print(engagement_num_unique_students)\n",
    "print(submission_num_unique_students)"
   ]
  },
  {
   "cell_type": "code",
   "execution_count": 37,
   "metadata": {},
   "outputs": [
    {
     "name": "stdout",
     "output_type": "stream",
     "text": [
      "OrderedDict([('account_key', '1219'), ('status', 'canceled'), ('join_date', '2014-11-12'), ('cancel_date', '2014-11-12'), ('days_to_cancel', '0'), ('is_udacity', 'False'), ('is_canceled', 'True')])\n"
     ]
    }
   ],
   "source": [
    "for enrollment in enrollments:\n",
    "    student = enrollment['account_key']\n",
    "    if student not in account_keys(daily_engagement):\n",
    "        print (enrollment)\n",
    "        break;"
   ]
  },
  {
   "cell_type": "code",
   "execution_count": null,
   "metadata": {},
   "outputs": [],
   "source": []
  }
 ],
 "metadata": {
  "kernelspec": {
   "display_name": "Python 3",
   "language": "python",
   "name": "python3"
  },
  "language_info": {
   "codemirror_mode": {
    "name": "ipython",
    "version": 3
   },
   "file_extension": ".py",
   "mimetype": "text/x-python",
   "name": "python",
   "nbconvert_exporter": "python",
   "pygments_lexer": "ipython3",
   "version": "3.7.3"
  }
 },
 "nbformat": 4,
 "nbformat_minor": 2
}
